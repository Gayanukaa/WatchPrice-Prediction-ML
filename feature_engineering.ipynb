{
 "cells": [
  {
   "cell_type": "markdown",
   "metadata": {},
   "source": [
    "# Feature Engineering"
   ]
  },
  {
   "cell_type": "code",
   "execution_count": 37,
   "metadata": {},
   "outputs": [],
   "source": [
    "import re\n",
    "import pandas as pd\n",
    "import numpy as np\n",
    "import matplotlib.pyplot as plt\n",
    "import seaborn as sns\n",
    "\n",
    "%matplotlib inline"
   ]
  },
  {
   "cell_type": "code",
   "execution_count": 38,
   "metadata": {},
   "outputs": [],
   "source": [
    "data_path = \"data/smartwatches.csv\"\n",
    "df = pd.read_csv(data_path)\n",
    "df.drop_duplicates(inplace=True)\n",
    "train_df = df.sample(frac=0.8, random_state=42)\n",
    "train_df = train_df.reset_index()\n",
    "test_df = df.drop(train_df.index)\n",
    "test_df = test_df.reset_index()"
   ]
  },
  {
   "cell_type": "code",
   "execution_count": 39,
   "metadata": {},
   "outputs": [
    {
     "data": {
      "text/plain": [
       "((450, 16), (360, 17), (90, 17))"
      ]
     },
     "execution_count": 39,
     "metadata": {},
     "output_type": "execute_result"
    }
   ],
   "source": [
    "df.shape, train_df.shape, test_df.shape"
   ]
  },
  {
   "cell_type": "code",
   "execution_count": 40,
   "metadata": {},
   "outputs": [
    {
     "data": {
      "text/html": [
       "<div>\n",
       "<style scoped>\n",
       "    .dataframe tbody tr th:only-of-type {\n",
       "        vertical-align: middle;\n",
       "    }\n",
       "\n",
       "    .dataframe tbody tr th {\n",
       "        vertical-align: top;\n",
       "    }\n",
       "\n",
       "    .dataframe thead th {\n",
       "        text-align: right;\n",
       "    }\n",
       "</style>\n",
       "<table border=\"1\" class=\"dataframe\">\n",
       "  <thead>\n",
       "    <tr style=\"text-align: right;\">\n",
       "      <th></th>\n",
       "      <th>index</th>\n",
       "      <th>Unnamed: 0</th>\n",
       "      <th>Brand</th>\n",
       "      <th>Current Price</th>\n",
       "      <th>Original Price</th>\n",
       "      <th>Discount Percentage</th>\n",
       "      <th>Rating</th>\n",
       "      <th>Number OF Ratings</th>\n",
       "      <th>Model Name</th>\n",
       "      <th>Dial Shape</th>\n",
       "      <th>Strap Color</th>\n",
       "      <th>Strap Material</th>\n",
       "      <th>Touchscreen</th>\n",
       "      <th>Battery Life (Days)</th>\n",
       "      <th>Bluetooth</th>\n",
       "      <th>Display Size</th>\n",
       "      <th>Weight</th>\n",
       "    </tr>\n",
       "  </thead>\n",
       "  <tbody>\n",
       "    <tr>\n",
       "      <th>0</th>\n",
       "      <td>407</td>\n",
       "      <td>407</td>\n",
       "      <td>zebronics</td>\n",
       "      <td>2949.0</td>\n",
       "      <td>4199.0</td>\n",
       "      <td>29.768993</td>\n",
       "      <td>3.1</td>\n",
       "      <td>10.0</td>\n",
       "      <td>LEATHER fit-650</td>\n",
       "      <td>Oval</td>\n",
       "      <td>Black</td>\n",
       "      <td>Leather</td>\n",
       "      <td>Yes</td>\n",
       "      <td>NaN</td>\n",
       "      <td>Yes</td>\n",
       "      <td>2.7 inches</td>\n",
       "      <td>NaN</td>\n",
       "    </tr>\n",
       "    <tr>\n",
       "      <th>1</th>\n",
       "      <td>444</td>\n",
       "      <td>444</td>\n",
       "      <td>fire-boltt</td>\n",
       "      <td>6999.0</td>\n",
       "      <td>15999.0</td>\n",
       "      <td>56.253516</td>\n",
       "      <td>2.6</td>\n",
       "      <td>NaN</td>\n",
       "      <td>bsw020</td>\n",
       "      <td>Circle</td>\n",
       "      <td>Brown</td>\n",
       "      <td>Silicon</td>\n",
       "      <td>Yes</td>\n",
       "      <td>8.0</td>\n",
       "      <td>Yes</td>\n",
       "      <td>1.4 inches</td>\n",
       "      <td>NaN</td>\n",
       "    </tr>\n",
       "    <tr>\n",
       "      <th>2</th>\n",
       "      <td>117</td>\n",
       "      <td>117</td>\n",
       "      <td>fire-boltt</td>\n",
       "      <td>2499.0</td>\n",
       "      <td>11999.0</td>\n",
       "      <td>79.173264</td>\n",
       "      <td>4.1</td>\n",
       "      <td>1990.0</td>\n",
       "      <td>BSW070</td>\n",
       "      <td>NaN</td>\n",
       "      <td>NaN</td>\n",
       "      <td>NaN</td>\n",
       "      <td>Yes</td>\n",
       "      <td>8.0</td>\n",
       "      <td>Yes</td>\n",
       "      <td>1.9 inches</td>\n",
       "      <td>75g +</td>\n",
       "    </tr>\n",
       "    <tr>\n",
       "      <th>3</th>\n",
       "      <td>30</td>\n",
       "      <td>30</td>\n",
       "      <td>boat</td>\n",
       "      <td>1999.0</td>\n",
       "      <td>7990.0</td>\n",
       "      <td>74.981227</td>\n",
       "      <td>3.6</td>\n",
       "      <td>827.0</td>\n",
       "      <td>NaN</td>\n",
       "      <td>NaN</td>\n",
       "      <td>NaN</td>\n",
       "      <td>NaN</td>\n",
       "      <td>NaN</td>\n",
       "      <td>8.0</td>\n",
       "      <td>Yes</td>\n",
       "      <td>NaN</td>\n",
       "      <td>75g +</td>\n",
       "    </tr>\n",
       "    <tr>\n",
       "      <th>4</th>\n",
       "      <td>415</td>\n",
       "      <td>415</td>\n",
       "      <td>fire-boltt</td>\n",
       "      <td>2299.0</td>\n",
       "      <td>5999.0</td>\n",
       "      <td>61.676946</td>\n",
       "      <td>2.5</td>\n",
       "      <td>24.0</td>\n",
       "      <td>NINJA PRO MAX</td>\n",
       "      <td>Square</td>\n",
       "      <td>Blue</td>\n",
       "      <td>Silicon</td>\n",
       "      <td>Yes</td>\n",
       "      <td>22.0</td>\n",
       "      <td>Yes</td>\n",
       "      <td>1.6 inches</td>\n",
       "      <td>NaN</td>\n",
       "    </tr>\n",
       "  </tbody>\n",
       "</table>\n",
       "</div>"
      ],
      "text/plain": [
       "   index  Unnamed: 0       Brand  Current Price  Original Price  \\\n",
       "0    407         407   zebronics         2949.0          4199.0   \n",
       "1    444         444  fire-boltt         6999.0         15999.0   \n",
       "2    117         117  fire-boltt         2499.0         11999.0   \n",
       "3     30          30        boat         1999.0          7990.0   \n",
       "4    415         415  fire-boltt         2299.0          5999.0   \n",
       "\n",
       "   Discount Percentage  Rating  Number OF Ratings       Model Name Dial Shape  \\\n",
       "0            29.768993     3.1               10.0  LEATHER fit-650       Oval   \n",
       "1            56.253516     2.6                NaN           bsw020     Circle   \n",
       "2            79.173264     4.1             1990.0           BSW070        NaN   \n",
       "3            74.981227     3.6              827.0              NaN        NaN   \n",
       "4            61.676946     2.5               24.0    NINJA PRO MAX     Square   \n",
       "\n",
       "  Strap Color Strap Material Touchscreen  Battery Life (Days) Bluetooth  \\\n",
       "0       Black        Leather         Yes                  NaN       Yes   \n",
       "1       Brown        Silicon         Yes                  8.0       Yes   \n",
       "2         NaN            NaN         Yes                  8.0       Yes   \n",
       "3         NaN            NaN         NaN                  8.0       Yes   \n",
       "4        Blue        Silicon         Yes                 22.0       Yes   \n",
       "\n",
       "  Display Size Weight  \n",
       "0   2.7 inches    NaN  \n",
       "1   1.4 inches    NaN  \n",
       "2   1.9 inches  75g +  \n",
       "3          NaN  75g +  \n",
       "4   1.6 inches    NaN  "
      ]
     },
     "execution_count": 40,
     "metadata": {},
     "output_type": "execute_result"
    }
   ],
   "source": [
    "train_df.head()"
   ]
  },
  {
   "cell_type": "code",
   "execution_count": 41,
   "metadata": {},
   "outputs": [
    {
     "data": {
      "text/html": [
       "<div>\n",
       "<style scoped>\n",
       "    .dataframe tbody tr th:only-of-type {\n",
       "        vertical-align: middle;\n",
       "    }\n",
       "\n",
       "    .dataframe tbody tr th {\n",
       "        vertical-align: top;\n",
       "    }\n",
       "\n",
       "    .dataframe thead th {\n",
       "        text-align: right;\n",
       "    }\n",
       "</style>\n",
       "<table border=\"1\" class=\"dataframe\">\n",
       "  <thead>\n",
       "    <tr style=\"text-align: right;\">\n",
       "      <th></th>\n",
       "      <th>Brand</th>\n",
       "      <th>Current Price</th>\n",
       "      <th>Original Price</th>\n",
       "      <th>Discount Percentage</th>\n",
       "      <th>Rating</th>\n",
       "      <th>Number OF Ratings</th>\n",
       "      <th>Model Name</th>\n",
       "      <th>Dial Shape</th>\n",
       "      <th>Strap Color</th>\n",
       "      <th>Strap Material</th>\n",
       "      <th>Touchscreen</th>\n",
       "      <th>Battery Life (Days)</th>\n",
       "      <th>Bluetooth</th>\n",
       "      <th>Display Size</th>\n",
       "      <th>Weight</th>\n",
       "    </tr>\n",
       "  </thead>\n",
       "  <tbody>\n",
       "    <tr>\n",
       "      <th>0</th>\n",
       "      <td>zebronics</td>\n",
       "      <td>2949.0</td>\n",
       "      <td>4199.0</td>\n",
       "      <td>29.768993</td>\n",
       "      <td>3.1</td>\n",
       "      <td>10.0</td>\n",
       "      <td>LEATHER fit-650</td>\n",
       "      <td>Oval</td>\n",
       "      <td>Black</td>\n",
       "      <td>Leather</td>\n",
       "      <td>Yes</td>\n",
       "      <td>NaN</td>\n",
       "      <td>Yes</td>\n",
       "      <td>2.7 inches</td>\n",
       "      <td>NaN</td>\n",
       "    </tr>\n",
       "    <tr>\n",
       "      <th>1</th>\n",
       "      <td>fire-boltt</td>\n",
       "      <td>6999.0</td>\n",
       "      <td>15999.0</td>\n",
       "      <td>56.253516</td>\n",
       "      <td>2.6</td>\n",
       "      <td>NaN</td>\n",
       "      <td>bsw020</td>\n",
       "      <td>Circle</td>\n",
       "      <td>Brown</td>\n",
       "      <td>Silicon</td>\n",
       "      <td>Yes</td>\n",
       "      <td>8.0</td>\n",
       "      <td>Yes</td>\n",
       "      <td>1.4 inches</td>\n",
       "      <td>NaN</td>\n",
       "    </tr>\n",
       "    <tr>\n",
       "      <th>2</th>\n",
       "      <td>fire-boltt</td>\n",
       "      <td>2499.0</td>\n",
       "      <td>11999.0</td>\n",
       "      <td>79.173264</td>\n",
       "      <td>4.1</td>\n",
       "      <td>1990.0</td>\n",
       "      <td>BSW070</td>\n",
       "      <td>NaN</td>\n",
       "      <td>NaN</td>\n",
       "      <td>NaN</td>\n",
       "      <td>Yes</td>\n",
       "      <td>8.0</td>\n",
       "      <td>Yes</td>\n",
       "      <td>1.9 inches</td>\n",
       "      <td>75g +</td>\n",
       "    </tr>\n",
       "    <tr>\n",
       "      <th>3</th>\n",
       "      <td>boat</td>\n",
       "      <td>1999.0</td>\n",
       "      <td>7990.0</td>\n",
       "      <td>74.981227</td>\n",
       "      <td>3.6</td>\n",
       "      <td>827.0</td>\n",
       "      <td>NaN</td>\n",
       "      <td>NaN</td>\n",
       "      <td>NaN</td>\n",
       "      <td>NaN</td>\n",
       "      <td>NaN</td>\n",
       "      <td>8.0</td>\n",
       "      <td>Yes</td>\n",
       "      <td>NaN</td>\n",
       "      <td>75g +</td>\n",
       "    </tr>\n",
       "    <tr>\n",
       "      <th>4</th>\n",
       "      <td>fire-boltt</td>\n",
       "      <td>2299.0</td>\n",
       "      <td>5999.0</td>\n",
       "      <td>61.676946</td>\n",
       "      <td>2.5</td>\n",
       "      <td>24.0</td>\n",
       "      <td>NINJA PRO MAX</td>\n",
       "      <td>Square</td>\n",
       "      <td>Blue</td>\n",
       "      <td>Silicon</td>\n",
       "      <td>Yes</td>\n",
       "      <td>22.0</td>\n",
       "      <td>Yes</td>\n",
       "      <td>1.6 inches</td>\n",
       "      <td>NaN</td>\n",
       "    </tr>\n",
       "  </tbody>\n",
       "</table>\n",
       "</div>"
      ],
      "text/plain": [
       "        Brand  Current Price  Original Price  Discount Percentage  Rating  \\\n",
       "0   zebronics         2949.0          4199.0            29.768993     3.1   \n",
       "1  fire-boltt         6999.0         15999.0            56.253516     2.6   \n",
       "2  fire-boltt         2499.0         11999.0            79.173264     4.1   \n",
       "3        boat         1999.0          7990.0            74.981227     3.6   \n",
       "4  fire-boltt         2299.0          5999.0            61.676946     2.5   \n",
       "\n",
       "   Number OF Ratings       Model Name Dial Shape Strap Color Strap Material  \\\n",
       "0               10.0  LEATHER fit-650       Oval       Black        Leather   \n",
       "1                NaN           bsw020     Circle       Brown        Silicon   \n",
       "2             1990.0           BSW070        NaN         NaN            NaN   \n",
       "3              827.0              NaN        NaN         NaN            NaN   \n",
       "4               24.0    NINJA PRO MAX     Square        Blue        Silicon   \n",
       "\n",
       "  Touchscreen  Battery Life (Days) Bluetooth Display Size Weight  \n",
       "0         Yes                  NaN       Yes   2.7 inches    NaN  \n",
       "1         Yes                  8.0       Yes   1.4 inches    NaN  \n",
       "2         Yes                  8.0       Yes   1.9 inches  75g +  \n",
       "3         NaN                  8.0       Yes          NaN  75g +  \n",
       "4         Yes                 22.0       Yes   1.6 inches    NaN  "
      ]
     },
     "execution_count": 41,
     "metadata": {},
     "output_type": "execute_result"
    }
   ],
   "source": [
    "train_df.drop(['index','Unnamed: 0'], axis=1, inplace=True)\n",
    "# inplace=True means that the changes are made in the original dataframe\n",
    "train_df.head()"
   ]
  },
  {
   "cell_type": "markdown",
   "metadata": {},
   "source": [
    "We can extract the numerical data in display size and weight"
   ]
  },
  {
   "cell_type": "code",
   "execution_count": 42,
   "metadata": {},
   "outputs": [
    {
     "name": "stdout",
     "output_type": "stream",
     "text": [
      "No. of null elements in Display Size Column:  27\n",
      "No. of elements categories in Column:  Display Size\n",
      "1.7 inches     56\n",
      "1.3 inches     50\n",
      "1.8 inches     48\n",
      "1.4 inches     35\n",
      "0.1 inches     28\n",
      "1.6 inches     25\n",
      "1.9 inches     21\n",
      "1.2 inches     17\n",
      "1.1 inches      6\n",
      "1.5 inches      6\n",
      "0.2 inches      6\n",
      "4.3 inches      4\n",
      "0.9 inches      4\n",
      "2.7 inches      2\n",
      "4.4 inches      2\n",
      "4.5 inches      2\n",
      "3.3 inches      2\n",
      "2.0 inches      2\n",
      "1.0 inches      2\n",
      "2.3 inches      1\n",
      "35.9 inches     1\n",
      "18.5 inches     1\n",
      "0.0 inches      1\n",
      "27.9 inches     1\n",
      "3.0 inches      1\n",
      "4.0 inches      1\n",
      "2.1 inches      1\n",
      "6.9 inches      1\n",
      "2.4 inches      1\n",
      "15.9 inches     1\n",
      "3.5 inches      1\n",
      "0.6 inches      1\n",
      "0.5 inches      1\n",
      "20.0 inches     1\n",
      "Name: count, dtype: int64\n",
      "No. of unique values in Display Size Column:  34\n"
     ]
    }
   ],
   "source": [
    "print(f\"No. of null elements in Display Size Column: \",train_df['Display Size'].isna().sum())\n",
    "print(f\"No. of elements categories in Column: \",train_df['Display Size'].value_counts())\n",
    "print(f\"No. of unique values in Display Size Column: \",train_df['Display Size'].value_counts().count())\n"
   ]
  },
  {
   "cell_type": "code",
   "execution_count": 43,
   "metadata": {},
   "outputs": [
    {
     "name": "stderr",
     "output_type": "stream",
     "text": [
      "/tmp/ipykernel_5819/2332630788.py:1: FutureWarning: A value is trying to be set on a copy of a DataFrame or Series through chained assignment using an inplace method.\n",
      "The behavior will change in pandas 3.0. This inplace method will never work because the intermediate object on which we are setting values always behaves as a copy.\n",
      "\n",
      "For example, when doing 'df[col].method(value, inplace=True)', try using 'df.method({col: value}, inplace=True)' or df[col] = df[col].method(value) instead, to perform the operation inplace on the original object.\n",
      "\n",
      "\n",
      "  train_df['Display Size'].fillna('0.0 inches',inplace=True)\n"
     ]
    },
    {
     "data": {
      "text/plain": [
       "np.int64(0)"
      ]
     },
     "execution_count": 43,
     "metadata": {},
     "output_type": "execute_result"
    }
   ],
   "source": [
    "train_df['Display Size'].fillna('0.0 inches',inplace=True)\n",
    "#it replaces the NaN values in the column with '0.0 inches'\n",
    "#inplace=True means that the changes are made in the original dataframe\n",
    "\n",
    "train_df ['Display Size'].isna().sum()"
   ]
  },
  {
   "cell_type": "code",
   "execution_count": 44,
   "metadata": {},
   "outputs": [
    {
     "data": {
      "text/plain": [
       "0    2.7\n",
       "1    1.4\n",
       "2    1.9\n",
       "3    0.0\n",
       "4    1.6\n",
       "Name: Display Size, dtype: float64"
      ]
     },
     "execution_count": 44,
     "metadata": {},
     "output_type": "execute_result"
    }
   ],
   "source": [
    "train_df['Display Size'] = train_df['Display Size'].apply(lambda x: float(x.split()[0]))\n",
    "train_df['Display Size'].head() #can see inches removed and NaN(eg. 4th row) filled"
   ]
  },
  {
   "cell_type": "markdown",
   "metadata": {},
   "source": [
    "But we can't keep 0 as display size. Gives incorrect values. So have to fill with null values"
   ]
  },
  {
   "cell_type": "code",
   "execution_count": 45,
   "metadata": {},
   "outputs": [
    {
     "name": "stdout",
     "output_type": "stream",
     "text": [
      "No. of null elements in Display Size Column:  28\n"
     ]
    },
    {
     "name": "stderr",
     "output_type": "stream",
     "text": [
      "/tmp/ipykernel_5819/621962736.py:1: FutureWarning: A value is trying to be set on a copy of a DataFrame or Series through chained assignment using an inplace method.\n",
      "The behavior will change in pandas 3.0. This inplace method will never work because the intermediate object on which we are setting values always behaves as a copy.\n",
      "\n",
      "For example, when doing 'df[col].method(value, inplace=True)', try using 'df.method({col: value}, inplace=True)' or df[col] = df[col].method(value) instead, to perform the operation inplace on the original object.\n",
      "\n",
      "\n",
      "  train_df['Display Size'].replace(0.0,np.nan,inplace=True)\n"
     ]
    }
   ],
   "source": [
    "train_df['Display Size'].replace(0.0,np.nan,inplace=True)\n",
    "print(f\"No. of null elements in Display Size Column: \",train_df['Display Size'].isna().sum())"
   ]
  },
  {
   "cell_type": "code",
   "execution_count": 46,
   "metadata": {},
   "outputs": [
    {
     "data": {
      "text/plain": [
       "Weight\n",
       "20 - 35 g    63\n",
       "75g +        58\n",
       "35 - 50 g    45\n",
       "<= 20 g      30\n",
       "50 - 75 g    15\n",
       "Name: count, dtype: int64"
      ]
     },
     "execution_count": 46,
     "metadata": {},
     "output_type": "execute_result"
    }
   ],
   "source": [
    "train_df['Weight'].value_counts()"
   ]
  },
  {
   "cell_type": "markdown",
   "metadata": {},
   "source": [
    "Will have to get the mean value for ranges"
   ]
  },
  {
   "cell_type": "code",
   "execution_count": 47,
   "metadata": {},
   "outputs": [
    {
     "name": "stderr",
     "output_type": "stream",
     "text": [
      "/tmp/ipykernel_5819/2842114934.py:2: FutureWarning: A value is trying to be set on a copy of a DataFrame or Series through chained assignment using an inplace method.\n",
      "The behavior will change in pandas 3.0. This inplace method will never work because the intermediate object on which we are setting values always behaves as a copy.\n",
      "\n",
      "For example, when doing 'df[col].method(value, inplace=True)', try using 'df.method({col: value}, inplace=True)' or df[col] = df[col].method(value) instead, to perform the operation inplace on the original object.\n",
      "\n",
      "\n",
      "  train_df['Weight'].replace('20 - 35 g',cal, inplace=True)\n"
     ]
    },
    {
     "data": {
      "text/plain": [
       "Weight\n",
       "27.5         63\n",
       "75g +        58\n",
       "35 - 50 g    45\n",
       "<= 20 g      30\n",
       "50 - 75 g    15\n",
       "Name: count, dtype: int64"
      ]
     },
     "execution_count": 47,
     "metadata": {},
     "output_type": "execute_result"
    }
   ],
   "source": [
    "cal = sum([int(x) for x in re.findall('\\d+','20 - 35 g')])/2\n",
    "train_df['Weight'].replace('20 - 35 g',cal, inplace=True)\n",
    "train_df['Weight'].value_counts()"
   ]
  },
  {
   "cell_type": "code",
   "execution_count": 48,
   "metadata": {},
   "outputs": [
    {
     "name": "stderr",
     "output_type": "stream",
     "text": [
      "/tmp/ipykernel_5819/1025587379.py:2: FutureWarning: A value is trying to be set on a copy of a DataFrame or Series through chained assignment using an inplace method.\n",
      "The behavior will change in pandas 3.0. This inplace method will never work because the intermediate object on which we are setting values always behaves as a copy.\n",
      "\n",
      "For example, when doing 'df[col].method(value, inplace=True)', try using 'df.method({col: value}, inplace=True)' or df[col] = df[col].method(value) instead, to perform the operation inplace on the original object.\n",
      "\n",
      "\n",
      "  train_df['Weight'].replace('35 - 50 g',cal, inplace=True)\n"
     ]
    }
   ],
   "source": [
    "cal = sum([int(x) for x in re.findall('\\d+','35 - 50 g')])/2\n",
    "train_df['Weight'].replace('35 - 50 g',cal, inplace=True)"
   ]
  },
  {
   "cell_type": "code",
   "execution_count": 49,
   "metadata": {},
   "outputs": [
    {
     "name": "stderr",
     "output_type": "stream",
     "text": [
      "/tmp/ipykernel_5819/3185377469.py:2: FutureWarning: A value is trying to be set on a copy of a DataFrame or Series through chained assignment using an inplace method.\n",
      "The behavior will change in pandas 3.0. This inplace method will never work because the intermediate object on which we are setting values always behaves as a copy.\n",
      "\n",
      "For example, when doing 'df[col].method(value, inplace=True)', try using 'df.method({col: value}, inplace=True)' or df[col] = df[col].method(value) instead, to perform the operation inplace on the original object.\n",
      "\n",
      "\n",
      "  train_df['Weight'].replace('50 - 75 g',cal, inplace=True)\n"
     ]
    }
   ],
   "source": [
    "cal = sum([int(x) for x in re.findall('\\d+','50 - 75 g')])/2\n",
    "train_df['Weight'].replace('50 - 75 g',cal, inplace=True)"
   ]
  },
  {
   "cell_type": "code",
   "execution_count": 50,
   "metadata": {},
   "outputs": [
    {
     "name": "stderr",
     "output_type": "stream",
     "text": [
      "/tmp/ipykernel_5819/1754904084.py:1: FutureWarning: A value is trying to be set on a copy of a DataFrame or Series through chained assignment using an inplace method.\n",
      "The behavior will change in pandas 3.0. This inplace method will never work because the intermediate object on which we are setting values always behaves as a copy.\n",
      "\n",
      "For example, when doing 'df[col].method(value, inplace=True)', try using 'df.method({col: value}, inplace=True)' or df[col] = df[col].method(value) instead, to perform the operation inplace on the original object.\n",
      "\n",
      "\n",
      "  train_df['Weight'].replace('75g +',float(re.findall('\\d+','75g +')[0]), inplace=True)\n"
     ]
    }
   ],
   "source": [
    "train_df['Weight'].replace('75g +',float(re.findall('\\d+','75g +')[0]), inplace=True)"
   ]
  },
  {
   "cell_type": "code",
   "execution_count": 51,
   "metadata": {},
   "outputs": [
    {
     "name": "stderr",
     "output_type": "stream",
     "text": [
      "/tmp/ipykernel_5819/655051738.py:1: FutureWarning: A value is trying to be set on a copy of a DataFrame or Series through chained assignment using an inplace method.\n",
      "The behavior will change in pandas 3.0. This inplace method will never work because the intermediate object on which we are setting values always behaves as a copy.\n",
      "\n",
      "For example, when doing 'df[col].method(value, inplace=True)', try using 'df.method({col: value}, inplace=True)' or df[col] = df[col].method(value) instead, to perform the operation inplace on the original object.\n",
      "\n",
      "\n",
      "  train_df['Weight'].replace('<= 20 g',float(re.findall('\\d+','<= 20 g')[0]), inplace=True)\n",
      "/tmp/ipykernel_5819/655051738.py:1: FutureWarning: Downcasting behavior in `replace` is deprecated and will be removed in a future version. To retain the old behavior, explicitly call `result.infer_objects(copy=False)`. To opt-in to the future behavior, set `pd.set_option('future.no_silent_downcasting', True)`\n",
      "  train_df['Weight'].replace('<= 20 g',float(re.findall('\\d+','<= 20 g')[0]), inplace=True)\n"
     ]
    }
   ],
   "source": [
    "train_df['Weight'].replace('<= 20 g',float(re.findall('\\d+','<= 20 g')[0]), inplace=True)"
   ]
  },
  {
   "cell_type": "code",
   "execution_count": 52,
   "metadata": {},
   "outputs": [
    {
     "data": {
      "text/plain": [
       "Weight\n",
       "27.5    63\n",
       "75.0    58\n",
       "42.5    45\n",
       "20.0    30\n",
       "62.5    15\n",
       "Name: count, dtype: int64"
      ]
     },
     "execution_count": 52,
     "metadata": {},
     "output_type": "execute_result"
    }
   ],
   "source": [
    "train_df['Weight'].value_counts()"
   ]
  },
  {
   "cell_type": "code",
   "execution_count": 53,
   "metadata": {},
   "outputs": [
    {
     "name": "stdout",
     "output_type": "stream",
     "text": [
      "<class 'pandas.core.frame.DataFrame'>\n",
      "RangeIndex: 360 entries, 0 to 359\n",
      "Data columns (total 15 columns):\n",
      " #   Column               Non-Null Count  Dtype  \n",
      "---  ------               --------------  -----  \n",
      " 0   Brand                360 non-null    object \n",
      " 1   Current Price        354 non-null    float64\n",
      " 2   Original Price       304 non-null    float64\n",
      " 3   Discount Percentage  304 non-null    float64\n",
      " 4   Rating               356 non-null    float64\n",
      " 5   Number OF Ratings    315 non-null    float64\n",
      " 6   Model Name           330 non-null    object \n",
      " 7   Dial Shape           260 non-null    object \n",
      " 8   Strap Color          260 non-null    object \n",
      " 9   Strap Material       304 non-null    object \n",
      " 10  Touchscreen          329 non-null    object \n",
      " 11  Battery Life (Days)  330 non-null    float64\n",
      " 12  Bluetooth            355 non-null    object \n",
      " 13  Display Size         332 non-null    float64\n",
      " 14  Weight               211 non-null    float64\n",
      "dtypes: float64(8), object(7)\n",
      "memory usage: 42.3+ KB\n"
     ]
    }
   ],
   "source": [
    "train_df.info()"
   ]
  },
  {
   "cell_type": "markdown",
   "metadata": {},
   "source": [
    "Removing discount which is a percentage and adding as a new column price"
   ]
  },
  {
   "cell_type": "code",
   "execution_count": 54,
   "metadata": {},
   "outputs": [],
   "source": [
    "train_df['Discount Price'] = (train_df['Original Price'] * (-train_df['Discount Percentage']))/100\n",
    "train_df.drop(['Discount Percentage'],axis=1, inplace=True)"
   ]
  },
  {
   "cell_type": "markdown",
   "metadata": {
    "notebookRunGroups": {
     "groupValue": "1"
    }
   },
   "source": [
    "### Numerical Data"
   ]
  },
  {
   "cell_type": "code",
   "execution_count": 55,
   "metadata": {},
   "outputs": [],
   "source": [
    "numerical_col = [feature for feature in train_df.columns if train_df[feature].dtype == 'float64']"
   ]
  },
  {
   "cell_type": "code",
   "execution_count": 56,
   "metadata": {},
   "outputs": [
    {
     "data": {
      "text/html": [
       "<div>\n",
       "<style scoped>\n",
       "    .dataframe tbody tr th:only-of-type {\n",
       "        vertical-align: middle;\n",
       "    }\n",
       "\n",
       "    .dataframe tbody tr th {\n",
       "        vertical-align: top;\n",
       "    }\n",
       "\n",
       "    .dataframe thead th {\n",
       "        text-align: right;\n",
       "    }\n",
       "</style>\n",
       "<table border=\"1\" class=\"dataframe\">\n",
       "  <thead>\n",
       "    <tr style=\"text-align: right;\">\n",
       "      <th></th>\n",
       "      <th>Current Price</th>\n",
       "      <th>Original Price</th>\n",
       "      <th>Rating</th>\n",
       "      <th>Number OF Ratings</th>\n",
       "      <th>Battery Life (Days)</th>\n",
       "      <th>Display Size</th>\n",
       "      <th>Weight</th>\n",
       "      <th>Discount Price</th>\n",
       "    </tr>\n",
       "  </thead>\n",
       "  <tbody>\n",
       "    <tr>\n",
       "      <th>0</th>\n",
       "      <td>2949.0</td>\n",
       "      <td>4199.0</td>\n",
       "      <td>3.1</td>\n",
       "      <td>10.0</td>\n",
       "      <td>NaN</td>\n",
       "      <td>2.7</td>\n",
       "      <td>NaN</td>\n",
       "      <td>-1250.000000</td>\n",
       "    </tr>\n",
       "    <tr>\n",
       "      <th>1</th>\n",
       "      <td>6999.0</td>\n",
       "      <td>15999.0</td>\n",
       "      <td>2.6</td>\n",
       "      <td>NaN</td>\n",
       "      <td>8.0</td>\n",
       "      <td>1.4</td>\n",
       "      <td>NaN</td>\n",
       "      <td>-8999.999999</td>\n",
       "    </tr>\n",
       "    <tr>\n",
       "      <th>2</th>\n",
       "      <td>2499.0</td>\n",
       "      <td>11999.0</td>\n",
       "      <td>4.1</td>\n",
       "      <td>1990.0</td>\n",
       "      <td>8.0</td>\n",
       "      <td>1.9</td>\n",
       "      <td>75.0</td>\n",
       "      <td>-9500.000000</td>\n",
       "    </tr>\n",
       "    <tr>\n",
       "      <th>3</th>\n",
       "      <td>1999.0</td>\n",
       "      <td>7990.0</td>\n",
       "      <td>3.6</td>\n",
       "      <td>827.0</td>\n",
       "      <td>8.0</td>\n",
       "      <td>NaN</td>\n",
       "      <td>75.0</td>\n",
       "      <td>-5991.000000</td>\n",
       "    </tr>\n",
       "    <tr>\n",
       "      <th>4</th>\n",
       "      <td>2299.0</td>\n",
       "      <td>5999.0</td>\n",
       "      <td>2.5</td>\n",
       "      <td>24.0</td>\n",
       "      <td>22.0</td>\n",
       "      <td>1.6</td>\n",
       "      <td>NaN</td>\n",
       "      <td>-3700.000000</td>\n",
       "    </tr>\n",
       "  </tbody>\n",
       "</table>\n",
       "</div>"
      ],
      "text/plain": [
       "   Current Price  Original Price  Rating  Number OF Ratings  \\\n",
       "0         2949.0          4199.0     3.1               10.0   \n",
       "1         6999.0         15999.0     2.6                NaN   \n",
       "2         2499.0         11999.0     4.1             1990.0   \n",
       "3         1999.0          7990.0     3.6              827.0   \n",
       "4         2299.0          5999.0     2.5               24.0   \n",
       "\n",
       "   Battery Life (Days)  Display Size  Weight  Discount Price  \n",
       "0                  NaN           2.7     NaN    -1250.000000  \n",
       "1                  8.0           1.4     NaN    -8999.999999  \n",
       "2                  8.0           1.9    75.0    -9500.000000  \n",
       "3                  8.0           NaN    75.0    -5991.000000  \n",
       "4                 22.0           1.6     NaN    -3700.000000  "
      ]
     },
     "execution_count": 56,
     "metadata": {},
     "output_type": "execute_result"
    }
   ],
   "source": [
    "train_df[numerical_col].head()"
   ]
  },
  {
   "cell_type": "code",
   "execution_count": 57,
   "metadata": {},
   "outputs": [
    {
     "data": {
      "image/png": "[encoded data removed]",
      "text/plain": [
       "<Figure size 1400x1000 with 9 Axes>"
      ]
     },
     "metadata": {},
     "output_type": "display_data"
    }
   ],
   "source": [
    "#Density Plot\n",
    "fig, axes = plt.subplots(nrows=3, ncols=3, figsize=(14,10))\n",
    "\n",
    "for i, column in enumerate(numerical_col):\n",
    "    row = i//3\n",
    "    col = i%3\n",
    "    ax = axes[row, col]\n",
    "    sns.kdeplot(data=train_df[column], ax=ax, fill=True)\n",
    "\n",
    "plt.show()"
   ]
  },
  {
   "cell_type": "code",
   "execution_count": 58,
   "metadata": {},
   "outputs": [
    {
     "data": {
      "image/png": "[encoded data removed]",
      "text/plain": [
       "<Figure size 1400x1000 with 9 Axes>"
      ]
     },
     "metadata": {},
     "output_type": "display_data"
    }
   ],
   "source": [
    "#Box Plot for outliers\n",
    "fig, axes = plt.subplots(nrows=3, ncols=3, figsize=(14,10))\n",
    "\n",
    "for i, column in enumerate(numerical_col):\n",
    "    row = i//3\n",
    "    col = i%3\n",
    "    ax = axes[row, col]\n",
    "    sns.boxplot(data=train_df[column], ax=ax)\n",
    "\n",
    "plt.show()"
   ]
  },
  {
   "cell_type": "markdown",
   "metadata": {},
   "source": [
    "We have to remove outliers and null values"
   ]
  },
  {
   "cell_type": "code",
   "execution_count": 59,
   "metadata": {},
   "outputs": [],
   "source": [
    "def remove_outliers_IQR(data,col):\n",
    "    Q1 = data[col].quantile(0.25)\n",
    "    Q3 = data[col].quantile(0.75)\n",
    "    IQR = Q3- Q1\n",
    "    lower_bound = Q1 - 1.5*IQR\n",
    "    upper_bound = Q3 + 1.5*IQR\n",
    "    return data[(data[col] > lower_bound) & (data[col] < upper_bound)]\n",
    "\n",
    "#it calculates the IQR(Interquartile Range) of the column\n",
    "#any data point that is below the lower bound or above the upper bound is considered an outlier\n",
    "#it is not a good method to use when you have a small dataset or when you want to remove extreme outliers\n",
    "#it is also not a good method to use when you have a dataset that is not normally distributed"
   ]
  },
  {
   "cell_type": "code",
   "execution_count": 60,
   "metadata": {},
   "outputs": [
    {
     "data": {
      "text/plain": [
       "Index(['Brand', 'Current Price', 'Original Price', 'Rating',\n",
       "       'Number OF Ratings', 'Model Name', 'Dial Shape', 'Strap Color',\n",
       "       'Strap Material', 'Touchscreen', 'Battery Life (Days)', 'Bluetooth',\n",
       "       'Display Size', 'Weight', 'Discount Price'],\n",
       "      dtype='object')"
      ]
     },
     "execution_count": 60,
     "metadata": {},
     "output_type": "execute_result"
    }
   ],
   "source": [
    "train_df.columns"
   ]
  },
  {
   "cell_type": "code",
   "execution_count": 61,
   "metadata": {},
   "outputs": [],
   "source": [
    "import_col = ['Current Price','Original Price', 'Rating', 'Number OF Ratings','Display Size']\n",
    "for col in import_col:\n",
    "    train_df = remove_outliers_IQR(train_df,col)"
   ]
  },
  {
   "cell_type": "code",
   "execution_count": 62,
   "metadata": {},
   "outputs": [
    {
     "name": "stdout",
     "output_type": "stream",
     "text": [
      "Current Price\n",
      "Original Price\n",
      "Rating\n",
      "Number OF Ratings\n",
      "Battery Life (Days)\n",
      "Display Size\n",
      "Weight\n",
      "Discount Price\n"
     ]
    },
    {
     "name": "stderr",
     "output_type": "stream",
     "text": [
      "/tmp/ipykernel_5819/1658619530.py:3: FutureWarning: A value is trying to be set on a copy of a DataFrame or Series through chained assignment using an inplace method.\n",
      "The behavior will change in pandas 3.0. This inplace method will never work because the intermediate object on which we are setting values always behaves as a copy.\n",
      "\n",
      "For example, when doing 'df[col].method(value, inplace=True)', try using 'df.method({col: value}, inplace=True)' or df[col] = df[col].method(value) instead, to perform the operation inplace on the original object.\n",
      "\n",
      "\n",
      "  train_df[col].fillna(train_df[col].median(), inplace=True)\n",
      "/tmp/ipykernel_5819/1658619530.py:3: FutureWarning: A value is trying to be set on a copy of a DataFrame or Series through chained assignment using an inplace method.\n",
      "The behavior will change in pandas 3.0. This inplace method will never work because the intermediate object on which we are setting values always behaves as a copy.\n",
      "\n",
      "For example, when doing 'df[col].method(value, inplace=True)', try using 'df.method({col: value}, inplace=True)' or df[col] = df[col].method(value) instead, to perform the operation inplace on the original object.\n",
      "\n",
      "\n",
      "  train_df[col].fillna(train_df[col].median(), inplace=True)\n",
      "/tmp/ipykernel_5819/1658619530.py:3: FutureWarning: A value is trying to be set on a copy of a DataFrame or Series through chained assignment using an inplace method.\n",
      "The behavior will change in pandas 3.0. This inplace method will never work because the intermediate object on which we are setting values always behaves as a copy.\n",
      "\n",
      "For example, when doing 'df[col].method(value, inplace=True)', try using 'df.method({col: value}, inplace=True)' or df[col] = df[col].method(value) instead, to perform the operation inplace on the original object.\n",
      "\n",
      "\n",
      "  train_df[col].fillna(train_df[col].median(), inplace=True)\n",
      "/tmp/ipykernel_5819/1658619530.py:3: FutureWarning: A value is trying to be set on a copy of a DataFrame or Series through chained assignment using an inplace method.\n",
      "The behavior will change in pandas 3.0. This inplace method will never work because the intermediate object on which we are setting values always behaves as a copy.\n",
      "\n",
      "For example, when doing 'df[col].method(value, inplace=True)', try using 'df.method({col: value}, inplace=True)' or df[col] = df[col].method(value) instead, to perform the operation inplace on the original object.\n",
      "\n",
      "\n",
      "  train_df[col].fillna(train_df[col].median(), inplace=True)\n",
      "/tmp/ipykernel_5819/1658619530.py:3: FutureWarning: A value is trying to be set on a copy of a DataFrame or Series through chained assignment using an inplace method.\n",
      "The behavior will change in pandas 3.0. This inplace method will never work because the intermediate object on which we are setting values always behaves as a copy.\n",
      "\n",
      "For example, when doing 'df[col].method(value, inplace=True)', try using 'df.method({col: value}, inplace=True)' or df[col] = df[col].method(value) instead, to perform the operation inplace on the original object.\n",
      "\n",
      "\n",
      "  train_df[col].fillna(train_df[col].median(), inplace=True)\n",
      "/tmp/ipykernel_5819/1658619530.py:3: FutureWarning: A value is trying to be set on a copy of a DataFrame or Series through chained assignment using an inplace method.\n",
      "The behavior will change in pandas 3.0. This inplace method will never work because the intermediate object on which we are setting values always behaves as a copy.\n",
      "\n",
      "For example, when doing 'df[col].method(value, inplace=True)', try using 'df.method({col: value}, inplace=True)' or df[col] = df[col].method(value) instead, to perform the operation inplace on the original object.\n",
      "\n",
      "\n",
      "  train_df[col].fillna(train_df[col].median(), inplace=True)\n",
      "/tmp/ipykernel_5819/1658619530.py:3: FutureWarning: A value is trying to be set on a copy of a DataFrame or Series through chained assignment using an inplace method.\n",
      "The behavior will change in pandas 3.0. This inplace method will never work because the intermediate object on which we are setting values always behaves as a copy.\n",
      "\n",
      "For example, when doing 'df[col].method(value, inplace=True)', try using 'df.method({col: value}, inplace=True)' or df[col] = df[col].method(value) instead, to perform the operation inplace on the original object.\n",
      "\n",
      "\n",
      "  train_df[col].fillna(train_df[col].median(), inplace=True)\n",
      "/tmp/ipykernel_5819/1658619530.py:3: FutureWarning: A value is trying to be set on a copy of a DataFrame or Series through chained assignment using an inplace method.\n",
      "The behavior will change in pandas 3.0. This inplace method will never work because the intermediate object on which we are setting values always behaves as a copy.\n",
      "\n",
      "For example, when doing 'df[col].method(value, inplace=True)', try using 'df.method({col: value}, inplace=True)' or df[col] = df[col].method(value) instead, to perform the operation inplace on the original object.\n",
      "\n",
      "\n",
      "  train_df[col].fillna(train_df[col].median(), inplace=True)\n"
     ]
    }
   ],
   "source": [
    "for col in numerical_col:\n",
    "    print(col)\n",
    "    train_df[col].fillna(train_df[col].median(), inplace=True)"
   ]
  },
  {
   "cell_type": "code",
   "execution_count": 63,
   "metadata": {},
   "outputs": [
    {
     "data": {
      "text/plain": [
       "(143, 15)"
      ]
     },
     "execution_count": 63,
     "metadata": {},
     "output_type": "execute_result"
    }
   ],
   "source": [
    "train_df.shape"
   ]
  },
  {
   "cell_type": "code",
   "execution_count": 64,
   "metadata": {},
   "outputs": [
    {
     "data": {
      "text/plain": [
       "Brand                   0\n",
       "Current Price           0\n",
       "Original Price          0\n",
       "Rating                  0\n",
       "Number OF Ratings       0\n",
       "Model Name              9\n",
       "Dial Shape             56\n",
       "Strap Color            56\n",
       "Strap Material         23\n",
       "Touchscreen             6\n",
       "Battery Life (Days)     0\n",
       "Bluetooth               0\n",
       "Display Size            0\n",
       "Weight                  0\n",
       "Discount Price          0\n",
       "dtype: int64"
      ]
     },
     "execution_count": 64,
     "metadata": {},
     "output_type": "execute_result"
    }
   ],
   "source": [
    "train_df.isna().sum()"
   ]
  },
  {
   "cell_type": "code",
   "execution_count": 65,
   "metadata": {},
   "outputs": [
    {
     "data": {
      "text/html": [
       "<div>\n",
       "<style scoped>\n",
       "    .dataframe tbody tr th:only-of-type {\n",
       "        vertical-align: middle;\n",
       "    }\n",
       "\n",
       "    .dataframe tbody tr th {\n",
       "        vertical-align: top;\n",
       "    }\n",
       "\n",
       "    .dataframe thead th {\n",
       "        text-align: right;\n",
       "    }\n",
       "</style>\n",
       "<table border=\"1\" class=\"dataframe\">\n",
       "  <thead>\n",
       "    <tr style=\"text-align: right;\">\n",
       "      <th></th>\n",
       "      <th>Current Price</th>\n",
       "      <th>Original Price</th>\n",
       "      <th>Rating</th>\n",
       "      <th>Number OF Ratings</th>\n",
       "      <th>Battery Life (Days)</th>\n",
       "      <th>Display Size</th>\n",
       "      <th>Weight</th>\n",
       "      <th>Discount Price</th>\n",
       "    </tr>\n",
       "  </thead>\n",
       "  <tbody>\n",
       "    <tr>\n",
       "      <th>2</th>\n",
       "      <td>2499.0</td>\n",
       "      <td>11999.0</td>\n",
       "      <td>4.1</td>\n",
       "      <td>1990.0</td>\n",
       "      <td>8.0</td>\n",
       "      <td>1.9</td>\n",
       "      <td>75.0</td>\n",
       "      <td>-9500.0</td>\n",
       "    </tr>\n",
       "    <tr>\n",
       "      <th>5</th>\n",
       "      <td>2499.0</td>\n",
       "      <td>6999.0</td>\n",
       "      <td>4.3</td>\n",
       "      <td>3944.0</td>\n",
       "      <td>22.0</td>\n",
       "      <td>1.9</td>\n",
       "      <td>42.5</td>\n",
       "      <td>-4500.0</td>\n",
       "    </tr>\n",
       "    <tr>\n",
       "      <th>6</th>\n",
       "      <td>3499.0</td>\n",
       "      <td>5999.0</td>\n",
       "      <td>4.2</td>\n",
       "      <td>1785.0</td>\n",
       "      <td>22.0</td>\n",
       "      <td>1.8</td>\n",
       "      <td>75.0</td>\n",
       "      <td>-2500.0</td>\n",
       "    </tr>\n",
       "    <tr>\n",
       "      <th>12</th>\n",
       "      <td>2126.0</td>\n",
       "      <td>5999.0</td>\n",
       "      <td>3.7</td>\n",
       "      <td>18.0</td>\n",
       "      <td>8.0</td>\n",
       "      <td>1.9</td>\n",
       "      <td>27.5</td>\n",
       "      <td>-3873.0</td>\n",
       "    </tr>\n",
       "    <tr>\n",
       "      <th>19</th>\n",
       "      <td>11499.0</td>\n",
       "      <td>18999.0</td>\n",
       "      <td>3.9</td>\n",
       "      <td>406.0</td>\n",
       "      <td>12.5</td>\n",
       "      <td>1.4</td>\n",
       "      <td>42.5</td>\n",
       "      <td>-7500.0</td>\n",
       "    </tr>\n",
       "  </tbody>\n",
       "</table>\n",
       "</div>"
      ],
      "text/plain": [
       "    Current Price  Original Price  Rating  Number OF Ratings  \\\n",
       "2          2499.0         11999.0     4.1             1990.0   \n",
       "5          2499.0          6999.0     4.3             3944.0   \n",
       "6          3499.0          5999.0     4.2             1785.0   \n",
       "12         2126.0          5999.0     3.7               18.0   \n",
       "19        11499.0         18999.0     3.9              406.0   \n",
       "\n",
       "    Battery Life (Days)  Display Size  Weight  Discount Price  \n",
       "2                   8.0           1.9    75.0         -9500.0  \n",
       "5                  22.0           1.9    42.5         -4500.0  \n",
       "6                  22.0           1.8    75.0         -2500.0  \n",
       "12                  8.0           1.9    27.5         -3873.0  \n",
       "19                 12.5           1.4    42.5         -7500.0  "
      ]
     },
     "execution_count": 65,
     "metadata": {},
     "output_type": "execute_result"
    }
   ],
   "source": [
    "train_df[numerical_col].head()"
   ]
  },
  {
   "cell_type": "markdown",
   "metadata": {},
   "source": [
    "The columns have data in various ranges of 10s, 100s, 1000s, etc, We have to normalize these."
   ]
  },
  {
   "cell_type": "code",
   "execution_count": 66,
   "metadata": {},
   "outputs": [],
   "source": [
    "from sklearn.preprocessing import MinMaxScaler\n",
    "\n",
    "scaler = MinMaxScaler()\n",
    "#it scales the data between 0 and 1\n",
    "#it is useful when you have a dataset that is not normally distributed"
   ]
  },
  {
   "cell_type": "code",
   "execution_count": 67,
   "metadata": {},
   "outputs": [],
   "source": [
    "data = scaler.fit_transform(train_df[numerical_col[:-1]])\n",
    "data = pd.DataFrame(data,columns=numerical_col[:-1])"
   ]
  },
  {
   "cell_type": "code",
   "execution_count": 68,
   "metadata": {},
   "outputs": [
    {
     "data": {
      "text/html": [
       "<div>\n",
       "<style scoped>\n",
       "    .dataframe tbody tr th:only-of-type {\n",
       "        vertical-align: middle;\n",
       "    }\n",
       "\n",
       "    .dataframe tbody tr th {\n",
       "        vertical-align: top;\n",
       "    }\n",
       "\n",
       "    .dataframe thead th {\n",
       "        text-align: right;\n",
       "    }\n",
       "</style>\n",
       "<table border=\"1\" class=\"dataframe\">\n",
       "  <thead>\n",
       "    <tr style=\"text-align: right;\">\n",
       "      <th></th>\n",
       "      <th>Current Price</th>\n",
       "      <th>Original Price</th>\n",
       "      <th>Rating</th>\n",
       "      <th>Number OF Ratings</th>\n",
       "      <th>Battery Life (Days)</th>\n",
       "      <th>Display Size</th>\n",
       "      <th>Weight</th>\n",
       "    </tr>\n",
       "  </thead>\n",
       "  <tbody>\n",
       "    <tr>\n",
       "      <th>0</th>\n",
       "      <td>0.065657</td>\n",
       "      <td>0.468356</td>\n",
       "      <td>0.666667</td>\n",
       "      <td>0.059470</td>\n",
       "      <td>0.341176</td>\n",
       "      <td>0.666667</td>\n",
       "      <td>1.000000</td>\n",
       "    </tr>\n",
       "    <tr>\n",
       "      <th>1</th>\n",
       "      <td>0.065657</td>\n",
       "      <td>0.237206</td>\n",
       "      <td>0.833333</td>\n",
       "      <td>0.117952</td>\n",
       "      <td>1.000000</td>\n",
       "      <td>0.666667</td>\n",
       "      <td>0.409091</td>\n",
       "    </tr>\n",
       "    <tr>\n",
       "      <th>2</th>\n",
       "      <td>0.116162</td>\n",
       "      <td>0.190976</td>\n",
       "      <td>0.750000</td>\n",
       "      <td>0.053334</td>\n",
       "      <td>1.000000</td>\n",
       "      <td>0.583333</td>\n",
       "      <td>1.000000</td>\n",
       "    </tr>\n",
       "    <tr>\n",
       "      <th>3</th>\n",
       "      <td>0.046818</td>\n",
       "      <td>0.190976</td>\n",
       "      <td>0.333333</td>\n",
       "      <td>0.000449</td>\n",
       "      <td>0.341176</td>\n",
       "      <td>0.666667</td>\n",
       "      <td>0.136364</td>\n",
       "    </tr>\n",
       "    <tr>\n",
       "      <th>4</th>\n",
       "      <td>0.520202</td>\n",
       "      <td>0.791965</td>\n",
       "      <td>0.500000</td>\n",
       "      <td>0.012062</td>\n",
       "      <td>0.552941</td>\n",
       "      <td>0.250000</td>\n",
       "      <td>0.409091</td>\n",
       "    </tr>\n",
       "  </tbody>\n",
       "</table>\n",
       "</div>"
      ],
      "text/plain": [
       "   Current Price  Original Price    Rating  Number OF Ratings  \\\n",
       "0       0.065657        0.468356  0.666667           0.059470   \n",
       "1       0.065657        0.237206  0.833333           0.117952   \n",
       "2       0.116162        0.190976  0.750000           0.053334   \n",
       "3       0.046818        0.190976  0.333333           0.000449   \n",
       "4       0.520202        0.791965  0.500000           0.012062   \n",
       "\n",
       "   Battery Life (Days)  Display Size    Weight  \n",
       "0             0.341176      0.666667  1.000000  \n",
       "1             1.000000      0.666667  0.409091  \n",
       "2             1.000000      0.583333  1.000000  \n",
       "3             0.341176      0.666667  0.136364  \n",
       "4             0.552941      0.250000  0.409091  "
      ]
     },
     "execution_count": 68,
     "metadata": {},
     "output_type": "execute_result"
    }
   ],
   "source": [
    "data.head()"
   ]
  },
  {
   "cell_type": "code",
   "execution_count": 69,
   "metadata": {},
   "outputs": [
    {
     "data": {
      "text/plain": [
       "((143, 7), (143, 15))"
      ]
     },
     "execution_count": 69,
     "metadata": {},
     "output_type": "execute_result"
    }
   ],
   "source": [
    "data.shape, train_df.shape"
   ]
  },
  {
   "cell_type": "code",
   "execution_count": 70,
   "metadata": {},
   "outputs": [
    {
     "data": {
      "text/html": [
       "<div>\n",
       "<style scoped>\n",
       "    .dataframe tbody tr th:only-of-type {\n",
       "        vertical-align: middle;\n",
       "    }\n",
       "\n",
       "    .dataframe tbody tr th {\n",
       "        vertical-align: top;\n",
       "    }\n",
       "\n",
       "    .dataframe thead th {\n",
       "        text-align: right;\n",
       "    }\n",
       "</style>\n",
       "<table border=\"1\" class=\"dataframe\">\n",
       "  <thead>\n",
       "    <tr style=\"text-align: right;\">\n",
       "      <th></th>\n",
       "      <th>Brand</th>\n",
       "      <th>Model Name</th>\n",
       "      <th>Dial Shape</th>\n",
       "      <th>Strap Color</th>\n",
       "      <th>Strap Material</th>\n",
       "      <th>Touchscreen</th>\n",
       "      <th>Bluetooth</th>\n",
       "      <th>Discount Price</th>\n",
       "    </tr>\n",
       "  </thead>\n",
       "  <tbody>\n",
       "    <tr>\n",
       "      <th>2</th>\n",
       "      <td>fire-boltt</td>\n",
       "      <td>BSW070</td>\n",
       "      <td>NaN</td>\n",
       "      <td>NaN</td>\n",
       "      <td>NaN</td>\n",
       "      <td>Yes</td>\n",
       "      <td>Yes</td>\n",
       "      <td>-9500.0</td>\n",
       "    </tr>\n",
       "    <tr>\n",
       "      <th>5</th>\n",
       "      <td>noise</td>\n",
       "      <td>ColorFit Loop Advanced BT Calling with 1.85\" d...</td>\n",
       "      <td>Square</td>\n",
       "      <td>Grey</td>\n",
       "      <td>Silicon</td>\n",
       "      <td>Yes</td>\n",
       "      <td>Yes</td>\n",
       "      <td>-4500.0</td>\n",
       "    </tr>\n",
       "    <tr>\n",
       "      <th>6</th>\n",
       "      <td>dizo</td>\n",
       "      <td>Watch D Talk 1.8 display with calling&amp;7 day ba...</td>\n",
       "      <td>Rectangle</td>\n",
       "      <td>Grey</td>\n",
       "      <td>Silicon</td>\n",
       "      <td>Yes</td>\n",
       "      <td>Yes</td>\n",
       "      <td>-2500.0</td>\n",
       "    </tr>\n",
       "    <tr>\n",
       "      <th>12</th>\n",
       "      <td>dizo</td>\n",
       "      <td>NaN</td>\n",
       "      <td>NaN</td>\n",
       "      <td>NaN</td>\n",
       "      <td>NaN</td>\n",
       "      <td>Yes</td>\n",
       "      <td>Yes</td>\n",
       "      <td>-3873.0</td>\n",
       "    </tr>\n",
       "    <tr>\n",
       "      <th>19</th>\n",
       "      <td>honor</td>\n",
       "      <td>MUS-B19</td>\n",
       "      <td>NaN</td>\n",
       "      <td>NaN</td>\n",
       "      <td>NaN</td>\n",
       "      <td>Yes</td>\n",
       "      <td>Yes</td>\n",
       "      <td>-7500.0</td>\n",
       "    </tr>\n",
       "  </tbody>\n",
       "</table>\n",
       "</div>"
      ],
      "text/plain": [
       "         Brand                                         Model Name Dial Shape  \\\n",
       "2   fire-boltt                                             BSW070        NaN   \n",
       "5        noise  ColorFit Loop Advanced BT Calling with 1.85\" d...     Square   \n",
       "6         dizo  Watch D Talk 1.8 display with calling&7 day ba...  Rectangle   \n",
       "12        dizo                                                NaN        NaN   \n",
       "19       honor                                            MUS-B19        NaN   \n",
       "\n",
       "   Strap Color Strap Material Touchscreen Bluetooth  Discount Price  \n",
       "2          NaN            NaN         Yes       Yes         -9500.0  \n",
       "5         Grey        Silicon         Yes       Yes         -4500.0  \n",
       "6         Grey        Silicon         Yes       Yes         -2500.0  \n",
       "12         NaN            NaN         Yes       Yes         -3873.0  \n",
       "19         NaN            NaN         Yes       Yes         -7500.0  "
      ]
     },
     "execution_count": 70,
     "metadata": {},
     "output_type": "execute_result"
    }
   ],
   "source": [
    "train_df.drop(numerical_col[:-1], axis=1, inplace=True)\n",
    "train_df.head()"
   ]
  },
  {
   "cell_type": "code",
   "execution_count": null,
   "metadata": {},
   "outputs": [],
   "source": []
  },
  {
   "cell_type": "code",
   "execution_count": 71,
   "metadata": {},
   "outputs": [
    {
     "data": {
      "text/html": [
       "<div>\n",
       "<style scoped>\n",
       "    .dataframe tbody tr th:only-of-type {\n",
       "        vertical-align: middle;\n",
       "    }\n",
       "\n",
       "    .dataframe tbody tr th {\n",
       "        vertical-align: top;\n",
       "    }\n",
       "\n",
       "    .dataframe thead th {\n",
       "        text-align: right;\n",
       "    }\n",
       "</style>\n",
       "<table border=\"1\" class=\"dataframe\">\n",
       "  <thead>\n",
       "    <tr style=\"text-align: right;\">\n",
       "      <th></th>\n",
       "      <th>Brand</th>\n",
       "      <th>Model Name</th>\n",
       "      <th>Dial Shape</th>\n",
       "      <th>Strap Color</th>\n",
       "      <th>Strap Material</th>\n",
       "      <th>Touchscreen</th>\n",
       "      <th>Bluetooth</th>\n",
       "      <th>Discount Price</th>\n",
       "      <th>Current Price</th>\n",
       "      <th>Original Price</th>\n",
       "      <th>Rating</th>\n",
       "      <th>Number OF Ratings</th>\n",
       "      <th>Battery Life (Days)</th>\n",
       "      <th>Display Size</th>\n",
       "      <th>Weight</th>\n",
       "    </tr>\n",
       "  </thead>\n",
       "  <tbody>\n",
       "    <tr>\n",
       "      <th>2</th>\n",
       "      <td>fire-boltt</td>\n",
       "      <td>BSW070</td>\n",
       "      <td>NaN</td>\n",
       "      <td>NaN</td>\n",
       "      <td>NaN</td>\n",
       "      <td>Yes</td>\n",
       "      <td>Yes</td>\n",
       "      <td>-9500.0</td>\n",
       "      <td>0.116162</td>\n",
       "      <td>0.190976</td>\n",
       "      <td>0.750000</td>\n",
       "      <td>0.053334</td>\n",
       "      <td>1.000000</td>\n",
       "      <td>0.583333</td>\n",
       "      <td>1.000000</td>\n",
       "    </tr>\n",
       "    <tr>\n",
       "      <th>5</th>\n",
       "      <td>noise</td>\n",
       "      <td>ColorFit Loop Advanced BT Calling with 1.85\" d...</td>\n",
       "      <td>Square</td>\n",
       "      <td>Grey</td>\n",
       "      <td>Silicon</td>\n",
       "      <td>Yes</td>\n",
       "      <td>Yes</td>\n",
       "      <td>-4500.0</td>\n",
       "      <td>0.005051</td>\n",
       "      <td>0.375896</td>\n",
       "      <td>0.750000</td>\n",
       "      <td>0.771609</td>\n",
       "      <td>0.341176</td>\n",
       "      <td>0.500000</td>\n",
       "      <td>0.409091</td>\n",
       "    </tr>\n",
       "    <tr>\n",
       "      <th>6</th>\n",
       "      <td>dizo</td>\n",
       "      <td>Watch D Talk 1.8 display with calling&amp;7 day ba...</td>\n",
       "      <td>Rectangle</td>\n",
       "      <td>Grey</td>\n",
       "      <td>Silicon</td>\n",
       "      <td>Yes</td>\n",
       "      <td>Yes</td>\n",
       "      <td>-2500.0</td>\n",
       "      <td>0.065657</td>\n",
       "      <td>0.375896</td>\n",
       "      <td>0.750000</td>\n",
       "      <td>0.697324</td>\n",
       "      <td>0.129412</td>\n",
       "      <td>0.583333</td>\n",
       "      <td>0.772727</td>\n",
       "    </tr>\n",
       "    <tr>\n",
       "      <th>12</th>\n",
       "      <td>dizo</td>\n",
       "      <td>NaN</td>\n",
       "      <td>NaN</td>\n",
       "      <td>NaN</td>\n",
       "      <td>NaN</td>\n",
       "      <td>Yes</td>\n",
       "      <td>Yes</td>\n",
       "      <td>-3873.0</td>\n",
       "      <td>0.166667</td>\n",
       "      <td>0.260321</td>\n",
       "      <td>0.333333</td>\n",
       "      <td>0.000000</td>\n",
       "      <td>1.000000</td>\n",
       "      <td>0.500000</td>\n",
       "      <td>0.409091</td>\n",
       "    </tr>\n",
       "    <tr>\n",
       "      <th>19</th>\n",
       "      <td>honor</td>\n",
       "      <td>MUS-B19</td>\n",
       "      <td>NaN</td>\n",
       "      <td>NaN</td>\n",
       "      <td>NaN</td>\n",
       "      <td>Yes</td>\n",
       "      <td>Yes</td>\n",
       "      <td>-7500.0</td>\n",
       "      <td>0.106061</td>\n",
       "      <td>0.190976</td>\n",
       "      <td>0.583333</td>\n",
       "      <td>0.002963</td>\n",
       "      <td>0.552941</td>\n",
       "      <td>0.166667</td>\n",
       "      <td>1.000000</td>\n",
       "    </tr>\n",
       "  </tbody>\n",
       "</table>\n",
       "</div>"
      ],
      "text/plain": [
       "         Brand                                         Model Name Dial Shape  \\\n",
       "2   fire-boltt                                             BSW070        NaN   \n",
       "5        noise  ColorFit Loop Advanced BT Calling with 1.85\" d...     Square   \n",
       "6         dizo  Watch D Talk 1.8 display with calling&7 day ba...  Rectangle   \n",
       "12        dizo                                                NaN        NaN   \n",
       "19       honor                                            MUS-B19        NaN   \n",
       "\n",
       "   Strap Color Strap Material Touchscreen Bluetooth  Discount Price  \\\n",
       "2          NaN            NaN         Yes       Yes         -9500.0   \n",
       "5         Grey        Silicon         Yes       Yes         -4500.0   \n",
       "6         Grey        Silicon         Yes       Yes         -2500.0   \n",
       "12         NaN            NaN         Yes       Yes         -3873.0   \n",
       "19         NaN            NaN         Yes       Yes         -7500.0   \n",
       "\n",
       "    Current Price  Original Price    Rating  Number OF Ratings  \\\n",
       "2        0.116162        0.190976  0.750000           0.053334   \n",
       "5        0.005051        0.375896  0.750000           0.771609   \n",
       "6        0.065657        0.375896  0.750000           0.697324   \n",
       "12       0.166667        0.260321  0.333333           0.000000   \n",
       "19       0.106061        0.190976  0.583333           0.002963   \n",
       "\n",
       "    Battery Life (Days)  Display Size    Weight  \n",
       "2              1.000000      0.583333  1.000000  \n",
       "5              0.341176      0.500000  0.409091  \n",
       "6              0.129412      0.583333  0.772727  \n",
       "12             1.000000      0.500000  0.409091  \n",
       "19             0.552941      0.166667  1.000000  "
      ]
     },
     "execution_count": 71,
     "metadata": {},
     "output_type": "execute_result"
    }
   ],
   "source": [
    "train_df = pd.concat([train_df, data], axis=1)\n",
    "train_df.head()"
   ]
  },
  {
   "cell_type": "code",
   "execution_count": 72,
   "metadata": {},
   "outputs": [
    {
     "data": {
      "text/html": [
       "<div>\n",
       "<style scoped>\n",
       "    .dataframe tbody tr th:only-of-type {\n",
       "        vertical-align: middle;\n",
       "    }\n",
       "\n",
       "    .dataframe tbody tr th {\n",
       "        vertical-align: top;\n",
       "    }\n",
       "\n",
       "    .dataframe thead th {\n",
       "        text-align: right;\n",
       "    }\n",
       "</style>\n",
       "<table border=\"1\" class=\"dataframe\">\n",
       "  <thead>\n",
       "    <tr style=\"text-align: right;\">\n",
       "      <th></th>\n",
       "      <th>Current Price</th>\n",
       "      <th>Original Price</th>\n",
       "      <th>Rating</th>\n",
       "      <th>Number OF Ratings</th>\n",
       "      <th>Battery Life (Days)</th>\n",
       "      <th>Display Size</th>\n",
       "      <th>Weight</th>\n",
       "      <th>Discount Price</th>\n",
       "    </tr>\n",
       "  </thead>\n",
       "  <tbody>\n",
       "    <tr>\n",
       "      <th>2</th>\n",
       "      <td>0.116162</td>\n",
       "      <td>0.190976</td>\n",
       "      <td>0.750000</td>\n",
       "      <td>0.053334</td>\n",
       "      <td>1.000000</td>\n",
       "      <td>0.583333</td>\n",
       "      <td>1.000000</td>\n",
       "      <td>-9500.0</td>\n",
       "    </tr>\n",
       "    <tr>\n",
       "      <th>5</th>\n",
       "      <td>0.005051</td>\n",
       "      <td>0.375896</td>\n",
       "      <td>0.750000</td>\n",
       "      <td>0.771609</td>\n",
       "      <td>0.341176</td>\n",
       "      <td>0.500000</td>\n",
       "      <td>0.409091</td>\n",
       "      <td>-4500.0</td>\n",
       "    </tr>\n",
       "    <tr>\n",
       "      <th>6</th>\n",
       "      <td>0.065657</td>\n",
       "      <td>0.375896</td>\n",
       "      <td>0.750000</td>\n",
       "      <td>0.697324</td>\n",
       "      <td>0.129412</td>\n",
       "      <td>0.583333</td>\n",
       "      <td>0.772727</td>\n",
       "      <td>-2500.0</td>\n",
       "    </tr>\n",
       "    <tr>\n",
       "      <th>12</th>\n",
       "      <td>0.166667</td>\n",
       "      <td>0.260321</td>\n",
       "      <td>0.333333</td>\n",
       "      <td>0.000000</td>\n",
       "      <td>1.000000</td>\n",
       "      <td>0.500000</td>\n",
       "      <td>0.409091</td>\n",
       "      <td>-3873.0</td>\n",
       "    </tr>\n",
       "    <tr>\n",
       "      <th>19</th>\n",
       "      <td>0.106061</td>\n",
       "      <td>0.190976</td>\n",
       "      <td>0.583333</td>\n",
       "      <td>0.002963</td>\n",
       "      <td>0.552941</td>\n",
       "      <td>0.166667</td>\n",
       "      <td>1.000000</td>\n",
       "      <td>-7500.0</td>\n",
       "    </tr>\n",
       "    <tr>\n",
       "      <th>...</th>\n",
       "      <td>...</td>\n",
       "      <td>...</td>\n",
       "      <td>...</td>\n",
       "      <td>...</td>\n",
       "      <td>...</td>\n",
       "      <td>...</td>\n",
       "      <td>...</td>\n",
       "      <td>...</td>\n",
       "    </tr>\n",
       "    <tr>\n",
       "      <th>132</th>\n",
       "      <td>0.545000</td>\n",
       "      <td>0.837779</td>\n",
       "      <td>0.833333</td>\n",
       "      <td>0.037891</td>\n",
       "      <td>0.341176</td>\n",
       "      <td>0.250000</td>\n",
       "      <td>0.409091</td>\n",
       "      <td>NaN</td>\n",
       "    </tr>\n",
       "    <tr>\n",
       "      <th>135</th>\n",
       "      <td>0.292929</td>\n",
       "      <td>0.375896</td>\n",
       "      <td>0.000000</td>\n",
       "      <td>0.000509</td>\n",
       "      <td>0.788235</td>\n",
       "      <td>0.083333</td>\n",
       "      <td>0.409091</td>\n",
       "      <td>NaN</td>\n",
       "    </tr>\n",
       "    <tr>\n",
       "      <th>136</th>\n",
       "      <td>0.030303</td>\n",
       "      <td>0.190976</td>\n",
       "      <td>0.750000</td>\n",
       "      <td>0.972764</td>\n",
       "      <td>1.000000</td>\n",
       "      <td>0.333333</td>\n",
       "      <td>0.409091</td>\n",
       "      <td>NaN</td>\n",
       "    </tr>\n",
       "    <tr>\n",
       "      <th>137</th>\n",
       "      <td>0.040404</td>\n",
       "      <td>0.098516</td>\n",
       "      <td>0.500000</td>\n",
       "      <td>0.104424</td>\n",
       "      <td>1.000000</td>\n",
       "      <td>0.416667</td>\n",
       "      <td>0.136364</td>\n",
       "      <td>NaN</td>\n",
       "    </tr>\n",
       "    <tr>\n",
       "      <th>138</th>\n",
       "      <td>0.696768</td>\n",
       "      <td>0.976700</td>\n",
       "      <td>0.583333</td>\n",
       "      <td>0.134084</td>\n",
       "      <td>0.788235</td>\n",
       "      <td>0.166667</td>\n",
       "      <td>0.409091</td>\n",
       "      <td>NaN</td>\n",
       "    </tr>\n",
       "  </tbody>\n",
       "</table>\n",
       "<p>223 rows × 8 columns</p>\n",
       "</div>"
      ],
      "text/plain": [
       "     Current Price  Original Price    Rating  Number OF Ratings  \\\n",
       "2         0.116162        0.190976  0.750000           0.053334   \n",
       "5         0.005051        0.375896  0.750000           0.771609   \n",
       "6         0.065657        0.375896  0.750000           0.697324   \n",
       "12        0.166667        0.260321  0.333333           0.000000   \n",
       "19        0.106061        0.190976  0.583333           0.002963   \n",
       "..             ...             ...       ...                ...   \n",
       "132       0.545000        0.837779  0.833333           0.037891   \n",
       "135       0.292929        0.375896  0.000000           0.000509   \n",
       "136       0.030303        0.190976  0.750000           0.972764   \n",
       "137       0.040404        0.098516  0.500000           0.104424   \n",
       "138       0.696768        0.976700  0.583333           0.134084   \n",
       "\n",
       "     Battery Life (Days)  Display Size    Weight  Discount Price  \n",
       "2               1.000000      0.583333  1.000000         -9500.0  \n",
       "5               0.341176      0.500000  0.409091         -4500.0  \n",
       "6               0.129412      0.583333  0.772727         -2500.0  \n",
       "12              1.000000      0.500000  0.409091         -3873.0  \n",
       "19              0.552941      0.166667  1.000000         -7500.0  \n",
       "..                   ...           ...       ...             ...  \n",
       "132             0.341176      0.250000  0.409091             NaN  \n",
       "135             0.788235      0.083333  0.409091             NaN  \n",
       "136             1.000000      0.333333  0.409091             NaN  \n",
       "137             1.000000      0.416667  0.136364             NaN  \n",
       "138             0.788235      0.166667  0.409091             NaN  \n",
       "\n",
       "[223 rows x 8 columns]"
      ]
     },
     "execution_count": 72,
     "metadata": {},
     "output_type": "execute_result"
    }
   ],
   "source": [
    "train_df[numerical_col]"
   ]
  }
 ],
 "metadata": {
  "kernelspec": {
   "display_name": "ml-pyt",
   "language": "python",
   "name": "python3"
  },
  "language_info": {
   "codemirror_mode": {
    "name": "ipython",
    "version": 3
   },
   "file_extension": ".py",
   "mimetype": "text/x-python",
   "name": "python",
   "nbconvert_exporter": "python",
   "pygments_lexer": "ipython3",
   "version": "3.9.18"
  }
 },
 "nbformat": 4,
 "nbformat_minor": 2
}
